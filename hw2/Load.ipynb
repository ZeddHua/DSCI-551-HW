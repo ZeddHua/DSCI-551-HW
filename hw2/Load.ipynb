{
 "cells": [
  {
   "cell_type": "code",
   "execution_count": 22,
   "id": "designed-plumbing",
   "metadata": {
    "execution": {
     "iopub.execute_input": "2021-09-30T21:42:03.840955Z",
     "iopub.status.busy": "2021-09-30T21:42:03.839917Z",
     "iopub.status.idle": "2021-09-30T21:42:03.875666Z",
     "shell.execute_reply": "2021-09-30T21:42:03.875666Z",
     "shell.execute_reply.started": "2021-09-30T21:42:03.840955Z"
    }
   },
   "outputs": [],
   "source": [
    "import pandas as pd\n",
    "category = pd.read_csv('category.csv', sep=';')\n",
    "actor = pd.read_csv('actor.csv', sep=';')\n",
    "film_actor = pd.read_csv('film_actor.csv', sep=';')\n",
    "film_category = pd.read_csv('film_category.csv', sep=';')\n",
    "film = pd.read_csv('film.csv', sep=';')\n",
    "\n",
    "category_xml = category.to_xml(\n",
    "    attr_cols=['category_id'],\n",
    "    elem_cols=['name', 'last_update'],\n",
    "    root_name='category_table',\n",
    "    row_name='category',\n",
    "    index=False,\n",
    "    xml_declaration=False,\n",
    "    pretty_print=True)\n",
    "\n",
    "actor_xml = actor.to_xml(\n",
    "    attr_cols=['actor_id'],\n",
    "    elem_cols=['first_name', 'last_name', 'last_update'],\n",
    "    root_name='actor_table',\n",
    "    row_name='actor',\n",
    "    index=False,\n",
    "    xml_declaration=False,\n",
    "    pretty_print=True)\n",
    "\n",
    "film_actor_xml = film_actor.to_xml(\n",
    "    attr_cols=['film_id', 'actor_id'],\n",
    "    elem_cols=['last_update'],\n",
    "    root_name='film_actor_table',\n",
    "    row_name='film_actor',\n",
    "    index=False,\n",
    "    xml_declaration=False,\n",
    "    pretty_print=True)\n",
    "\n",
    "film_category_xml = film_category.to_xml(\n",
    "    attr_cols=['film_id', 'category_id'],\n",
    "    elem_cols=['last_update'],\n",
    "    root_name='film_category_table',\n",
    "    row_name='film_category',\n",
    "    index=False,\n",
    "    xml_declaration=False,\n",
    "    pretty_print=True)\n",
    "\n",
    "film_xml = film.to_xml(\n",
    "    attr_cols=['film_id'],\n",
    "    elem_cols=['title', 'description', 'release_year', 'language_id',\n",
    "               'original_language_id', 'rental_duration', 'rental_rate', \n",
    "               'length','replacement_cost', 'rating', 'special_features', 'last_update'],\n",
    "    root_name='film_table',\n",
    "    row_name='film',\n",
    "    index=False,\n",
    "    xml_declaration=False,\n",
    "    pretty_print=True)\n",
    "\n",
    "merge = '<root>\\n' + category_xml + actor_xml + film_actor_xml + film_category_xml + film_xml + '\\n</root>'\n",
    "\n",
    "with open('main.xml', 'w') as f:\n",
    "    f.write(merge)"
   ]
  }
 ],
 "metadata": {
  "kernelspec": {
   "display_name": "Python 3",
   "language": "python",
   "name": "python3"
  },
  "language_info": {
   "codemirror_mode": {
    "name": "ipython",
    "version": 3
   },
   "file_extension": ".py",
   "mimetype": "text/x-python",
   "name": "python",
   "nbconvert_exporter": "python",
   "pygments_lexer": "ipython3",
   "version": "3.8.8"
  }
 },
 "nbformat": 4,
 "nbformat_minor": 5
}
