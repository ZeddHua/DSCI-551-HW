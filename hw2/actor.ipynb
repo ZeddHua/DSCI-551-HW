{
 "cells": [
  {
   "cell_type": "code",
   "execution_count": 9,
   "id": "contemporary-instrumentation",
   "metadata": {
    "execution": {
     "iopub.execute_input": "2021-10-01T17:59:57.119969Z",
     "iopub.status.busy": "2021-10-01T17:59:57.118971Z",
     "iopub.status.idle": "2021-10-01T17:59:57.129944Z",
     "shell.execute_reply": "2021-10-01T17:59:57.129944Z",
     "shell.execute_reply.started": "2021-10-01T17:59:57.119969Z"
    }
   },
   "outputs": [],
   "source": [
    "import lxml\n",
    "from lxml import etree\n",
    "import sys\n",
    "import pandas as pd\n",
    "\n",
    "arg = sys.argv[1]\n",
    "\n",
    "def pattern2(arg):\n",
    "    arg = arg.upper()\n",
    "    namelist = arg.split()\n",
    "    firstname = namelist[0]\n",
    "    lastname = namelist[1]\n",
    "    \n",
    "    with open('main.xml') as f:\n",
    "        tree = etree.parse(f)\n",
    "        \n",
    "    #use actor name to find actor_id in actor_table\n",
    "    actor_id = tree.xpath(\"//actor[first_name=$val1 and last_name=$val2]/@actor_id\", val1=firstname, val2=lastname)\n",
    "    \n",
    "    if actor_id:\n",
    "        #use actor_id to find film_id in film_actor_table\n",
    "        film_id = []\n",
    "        for element in tree.xpath(\"//film_actor[@actor_id=$val]/@film_id\", val=actor_id[0]):\n",
    "            film_id.append(element)\n",
    "    \n",
    "        #use film_id to find related info in film_table\n",
    "        film_info = []\n",
    "        for filmid in film_id:\n",
    "            title = tree.xpath(\"//film[@film_id=$val]/title/text()\", val=filmid)\n",
    "            release_year = tree.xpath(\"//film[@film_id=$val]/release_year/text()\", val=filmid)\n",
    "            info = tuple(title + release_year)\n",
    "            film_info.append(info)\n",
    "    \n",
    "        #print\n",
    "        for i in film_info:\n",
    "            print(i)\n",
    "    else:\n",
    "        print('No results found.')    \n",
    "\n",
    "#execute\n",
    "pattern2(arg)"
   ]
  }
 ],
 "metadata": {
  "kernelspec": {
   "display_name": "Python 3",
   "language": "python",
   "name": "python3"
  },
  "language_info": {
   "codemirror_mode": {
    "name": "ipython",
    "version": 3
   },
   "file_extension": ".py",
   "mimetype": "text/x-python",
   "name": "python",
   "nbconvert_exporter": "python",
   "pygments_lexer": "ipython3",
   "version": "3.8.8"
  }
 },
 "nbformat": 4,
 "nbformat_minor": 5
}
