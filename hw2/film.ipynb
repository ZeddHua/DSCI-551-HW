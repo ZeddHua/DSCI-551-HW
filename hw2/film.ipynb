{
 "cells": [
  {
   "cell_type": "code",
   "execution_count": 65,
   "id": "loving-capability",
   "metadata": {
    "execution": {
     "iopub.execute_input": "2021-10-01T18:01:13.384214Z",
     "iopub.status.busy": "2021-10-01T18:01:13.384214Z",
     "iopub.status.idle": "2021-10-01T18:01:13.406170Z",
     "shell.execute_reply": "2021-10-01T18:01:13.406170Z",
     "shell.execute_reply.started": "2021-10-01T18:01:13.384214Z"
    }
   },
   "outputs": [],
   "source": [
    "import lxml\n",
    "from lxml import etree\n",
    "import sys\n",
    "import pandas as pd\n",
    "\n",
    "arg = sys.argv[1]\n",
    "\n",
    "def pattern1(arg):\n",
    "    i = arg[0].upper()\n",
    "    i2 = arg[1:].lower()\n",
    "    arg = i + i2\n",
    "    \n",
    "    with open('main.xml') as f:\n",
    "        tree = etree.parse(f)\n",
    "        \n",
    "    #find category_id in category_table\n",
    "    category_id = tree.xpath(\"//category[name=$val]/@category_id\", val=arg)  \n",
    "    \n",
    "    if category_id:\n",
    "        #use category_id to find film_id in film_category_table\n",
    "        film_id = []\n",
    "        for element in tree.xpath(\"//film_category[@category_id=$val]/@film_id\", val=category_id[0]):  \n",
    "            film_id.append(element)\n",
    "        \n",
    "        #use film_id to find needed info in film_table\n",
    "        film_info = []\n",
    "        for filmid in film_id:  \n",
    "            title = tree.xpath(\"//film[@film_id=$val]/title/text()\", val=filmid)\n",
    "            release_year = tree.xpath(\"//film[@film_id=$val]/release_year/text()\", val=filmid)\n",
    "            rating = tree.xpath(\"//film[@film_id=$val]/rating/text()\", val=filmid)\n",
    "            rental_rate = tree.xpath(\"//film[@film_id=$val]/rental_rate/text()\", val=filmid)\n",
    "            rental_duration = tree.xpath(\"//film[@film_id=$val]/rental_duration/text()\", val=filmid)\n",
    "            info = tuple(title + release_year + rating + rental_rate + rental_duration)\n",
    "            film_info.append(info)\n",
    "        \n",
    "        #print\n",
    "        for i in film_info:\n",
    "            print(i)\n",
    "    else:\n",
    "        print('No results found.')\n",
    "\n",
    "#execute\n",
    "pattern1(arg)"
   ]
  }
 ],
 "metadata": {
  "kernelspec": {
   "display_name": "Python 3",
   "language": "python",
   "name": "python3"
  },
  "language_info": {
   "codemirror_mode": {
    "name": "ipython",
    "version": 3
   },
   "file_extension": ".py",
   "mimetype": "text/x-python",
   "name": "python",
   "nbconvert_exporter": "python",
   "pygments_lexer": "ipython3",
   "version": "3.8.8"
  }
 },
 "nbformat": 4,
 "nbformat_minor": 5
}
