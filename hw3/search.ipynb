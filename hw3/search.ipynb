{
 "cells": [
  {
   "cell_type": "code",
   "execution_count": 2,
   "id": "balanced-anthropology",
   "metadata": {
    "execution": {
     "iopub.execute_input": "2021-10-21T17:28:20.964834Z",
     "iopub.status.busy": "2021-10-21T17:28:20.964834Z",
     "iopub.status.idle": "2021-10-21T17:28:21.399000Z",
     "shell.execute_reply": "2021-10-21T17:28:21.399000Z",
     "shell.execute_reply.started": "2021-10-21T17:28:20.964834Z"
    }
   },
   "outputs": [],
   "source": [
    "import mysql.connector\n",
    "\n",
    "db = mysql.connector.connect(user='dsci551', password='Dsci-551', host='127.0.0.1', database='sakila')\n",
    "cur = db.cursor()\n",
    "\n",
    "sql1 = \"SELECT COUNT(*) FROM nicer_but_slower_film_list WHERE actors LIKE '%Temple%'\"\n",
    "cur.execute(sql1)\n",
    "result1 = cur.fetchall() #return list of tuples\n",
    "print(str(result1[0][0])+'films in total.')\n",
    "\n",
    "print()\n",
    "\n",
    "sql2 = \"SELECT title, FID, actors FROM nicer_but_slower_film_list WHERE actors LIKE '%Temple%'\"\n",
    "cur.execute(sql2)\n",
    "result2 = cur.fetchall()\n",
    "lst = [list(i) for i in result2]  #[['','',''],...]\n",
    "for i in lst:\n",
    "    i[2] = i[2].split(', ')\n",
    "    for name in i[2].copy():\n",
    "        if 'Temple' not in name:\n",
    "            i[2].remove(name)\n",
    "for row in lst:\n",
    "    if len(row[2])>1:\n",
    "        print(' and '.join(row[2])+' play '+row[0]+'('+str(row[1])+')')\n",
    "    else:\n",
    "        print(row[2][0]+' plays '+row[0]+'('+str(row[1])+')')\n",
    "\n",
    "cur.close()\n",
    "db.close()"
   ]
  }
 ],
 "metadata": {
  "kernelspec": {
   "display_name": "Python 3",
   "language": "python",
   "name": "python3"
  },
  "language_info": {
   "codemirror_mode": {
    "name": "ipython",
    "version": 3
   },
   "file_extension": ".py",
   "mimetype": "text/x-python",
   "name": "python",
   "nbconvert_exporter": "python",
   "pygments_lexer": "ipython3",
   "version": "3.8.8"
  }
 },
 "nbformat": 4,
 "nbformat_minor": 5
}
